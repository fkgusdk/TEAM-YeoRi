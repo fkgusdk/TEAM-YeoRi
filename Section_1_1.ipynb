{
  "nbformat": 4,
  "nbformat_minor": 0,
  "metadata": {
    "colab": {
      "provenance": [],
      "collapsed_sections": [],
      "authorship_tag": "ABX9TyO0yUZKalr9FIN6h27Awq8p",
      "include_colab_link": true
    },
    "kernelspec": {
      "name": "python3",
      "display_name": "Python 3"
    },
    "language_info": {
      "name": "python"
    }
  },
  "cells": [
    {
      "cell_type": "markdown",
      "metadata": {
        "id": "view-in-github",
        "colab_type": "text"
      },
      "source": [
        "<a href=\"https://colab.research.google.com/github/fkgusdk/TEAM-YeoRi/blob/main/Section_1_1.ipynb\" target=\"_parent\"><img src=\"https://colab.research.google.com/assets/colab-badge.svg\" alt=\"Open In Colab\"/></a>"
      ]
    },
    {
      "cell_type": "markdown",
      "source": [
        "## matplotlib & seaborn 라이브러리를 활용한 데이터 시각화"
      ],
      "metadata": {
        "id": "kKTihnzJPGJK"
      }
    },
    {
      "cell_type": "code",
      "execution_count": 1,
      "metadata": {
        "id": "rI_db2mmFgr2"
      },
      "outputs": [],
      "source": [
        "import numpy as np\n",
        "import pandas as pd\n",
        "\n",
        "import matplotlib.pyplot as plt\n",
        "import seaborn as sns\n",
        "\n",
        "import warnings # 시각화 오류 문구들 보기 싫으면 이거 import 해주면 좋음"
      ]
    },
    {
      "cell_type": "markdown",
      "source": [
        "### 설정들"
      ],
      "metadata": {
        "id": "-UfxKtE-SpVc"
      }
    },
    {
      "cell_type": "code",
      "source": [
        "# 시각화 테이블 (?) 크기 \n",
        "plt.rcParams['figure.figsize'] = [10,8] # (가로, 세로)\n",
        "\n",
        "# 그 외 스타일들\n",
        "sns.set(style='whitegrid') # 흰색 바탕 + 격자\n",
        "sns.set_palette('pastel')\n",
        "warnings.filterwarnings('ignore')"
      ],
      "metadata": {
        "id": "Bu82K1d4Pd9h"
      },
      "execution_count": 2,
      "outputs": []
    },
    {
      "cell_type": "code",
      "source": [
        "# 한글이 깨지는 경우 방지 (외울 필요 x -> 한글이 깨지면 복붙해서 사용)\n",
        "from matplotlib import font_manager, rc\n",
        "import matplotlib\n",
        "import platform\n",
        "\n",
        "if platform.system() == 'Window':\n",
        "  # 윈도우인 결우\n",
        "  font_name = font_manager.FontProperties(fname='c:/Window/Fonts/malgun.ttf')\n",
        "  rc('font',family=font_name)\n",
        "else:\n",
        "  # Mac인 경우\n",
        "  rc('font',family='AppleGothic')\n",
        "\n",
        "matplotlib.rcParams['axes.unicode_minus'] = False"
      ],
      "metadata": {
        "id": "qJk4eHcOQlwu"
      },
      "execution_count": 3,
      "outputs": []
    },
    {
      "cell_type": "markdown",
      "source": [
        "### 데이터셋 불러오기"
      ],
      "metadata": {
        "id": "7pZ14BoOSuju"
      }
    },
    {
      "cell_type": "code",
      "source": [
        "# seaborn에서 Tips 데이터셋 불러오기\n",
        "tips = sns.load_dataset('tips')\n",
        "tips.head()"
      ],
      "metadata": {
        "colab": {
          "base_uri": "https://localhost:8080/",
          "height": 206
        },
        "id": "Leurt3ozSjzV",
        "outputId": "d0a2005d-5c94-4edc-89a0-d25fa911d6a8"
      },
      "execution_count": 4,
      "outputs": [
        {
          "output_type": "execute_result",
          "data": {
            "text/plain": [
              "   total_bill   tip     sex smoker  day    time  size\n",
              "0       16.99  1.01  Female     No  Sun  Dinner     2\n",
              "1       10.34  1.66    Male     No  Sun  Dinner     3\n",
              "2       21.01  3.50    Male     No  Sun  Dinner     3\n",
              "3       23.68  3.31    Male     No  Sun  Dinner     2\n",
              "4       24.59  3.61  Female     No  Sun  Dinner     4"
            ],
            "text/html": [
              "\n",
              "  <div id=\"df-9329a61d-3613-4d46-bb62-59008455395c\">\n",
              "    <div class=\"colab-df-container\">\n",
              "      <div>\n",
              "<style scoped>\n",
              "    .dataframe tbody tr th:only-of-type {\n",
              "        vertical-align: middle;\n",
              "    }\n",
              "\n",
              "    .dataframe tbody tr th {\n",
              "        vertical-align: top;\n",
              "    }\n",
              "\n",
              "    .dataframe thead th {\n",
              "        text-align: right;\n",
              "    }\n",
              "</style>\n",
              "<table border=\"1\" class=\"dataframe\">\n",
              "  <thead>\n",
              "    <tr style=\"text-align: right;\">\n",
              "      <th></th>\n",
              "      <th>total_bill</th>\n",
              "      <th>tip</th>\n",
              "      <th>sex</th>\n",
              "      <th>smoker</th>\n",
              "      <th>day</th>\n",
              "      <th>time</th>\n",
              "      <th>size</th>\n",
              "    </tr>\n",
              "  </thead>\n",
              "  <tbody>\n",
              "    <tr>\n",
              "      <th>0</th>\n",
              "      <td>16.99</td>\n",
              "      <td>1.01</td>\n",
              "      <td>Female</td>\n",
              "      <td>No</td>\n",
              "      <td>Sun</td>\n",
              "      <td>Dinner</td>\n",
              "      <td>2</td>\n",
              "    </tr>\n",
              "    <tr>\n",
              "      <th>1</th>\n",
              "      <td>10.34</td>\n",
              "      <td>1.66</td>\n",
              "      <td>Male</td>\n",
              "      <td>No</td>\n",
              "      <td>Sun</td>\n",
              "      <td>Dinner</td>\n",
              "      <td>3</td>\n",
              "    </tr>\n",
              "    <tr>\n",
              "      <th>2</th>\n",
              "      <td>21.01</td>\n",
              "      <td>3.50</td>\n",
              "      <td>Male</td>\n",
              "      <td>No</td>\n",
              "      <td>Sun</td>\n",
              "      <td>Dinner</td>\n",
              "      <td>3</td>\n",
              "    </tr>\n",
              "    <tr>\n",
              "      <th>3</th>\n",
              "      <td>23.68</td>\n",
              "      <td>3.31</td>\n",
              "      <td>Male</td>\n",
              "      <td>No</td>\n",
              "      <td>Sun</td>\n",
              "      <td>Dinner</td>\n",
              "      <td>2</td>\n",
              "    </tr>\n",
              "    <tr>\n",
              "      <th>4</th>\n",
              "      <td>24.59</td>\n",
              "      <td>3.61</td>\n",
              "      <td>Female</td>\n",
              "      <td>No</td>\n",
              "      <td>Sun</td>\n",
              "      <td>Dinner</td>\n",
              "      <td>4</td>\n",
              "    </tr>\n",
              "  </tbody>\n",
              "</table>\n",
              "</div>\n",
              "      <button class=\"colab-df-convert\" onclick=\"convertToInteractive('df-9329a61d-3613-4d46-bb62-59008455395c')\"\n",
              "              title=\"Convert this dataframe to an interactive table.\"\n",
              "              style=\"display:none;\">\n",
              "        \n",
              "  <svg xmlns=\"http://www.w3.org/2000/svg\" height=\"24px\"viewBox=\"0 0 24 24\"\n",
              "       width=\"24px\">\n",
              "    <path d=\"M0 0h24v24H0V0z\" fill=\"none\"/>\n",
              "    <path d=\"M18.56 5.44l.94 2.06.94-2.06 2.06-.94-2.06-.94-.94-2.06-.94 2.06-2.06.94zm-11 1L8.5 8.5l.94-2.06 2.06-.94-2.06-.94L8.5 2.5l-.94 2.06-2.06.94zm10 10l.94 2.06.94-2.06 2.06-.94-2.06-.94-.94-2.06-.94 2.06-2.06.94z\"/><path d=\"M17.41 7.96l-1.37-1.37c-.4-.4-.92-.59-1.43-.59-.52 0-1.04.2-1.43.59L10.3 9.45l-7.72 7.72c-.78.78-.78 2.05 0 2.83L4 21.41c.39.39.9.59 1.41.59.51 0 1.02-.2 1.41-.59l7.78-7.78 2.81-2.81c.8-.78.8-2.07 0-2.86zM5.41 20L4 18.59l7.72-7.72 1.47 1.35L5.41 20z\"/>\n",
              "  </svg>\n",
              "      </button>\n",
              "      \n",
              "  <style>\n",
              "    .colab-df-container {\n",
              "      display:flex;\n",
              "      flex-wrap:wrap;\n",
              "      gap: 12px;\n",
              "    }\n",
              "\n",
              "    .colab-df-convert {\n",
              "      background-color: #E8F0FE;\n",
              "      border: none;\n",
              "      border-radius: 50%;\n",
              "      cursor: pointer;\n",
              "      display: none;\n",
              "      fill: #1967D2;\n",
              "      height: 32px;\n",
              "      padding: 0 0 0 0;\n",
              "      width: 32px;\n",
              "    }\n",
              "\n",
              "    .colab-df-convert:hover {\n",
              "      background-color: #E2EBFA;\n",
              "      box-shadow: 0px 1px 2px rgba(60, 64, 67, 0.3), 0px 1px 3px 1px rgba(60, 64, 67, 0.15);\n",
              "      fill: #174EA6;\n",
              "    }\n",
              "\n",
              "    [theme=dark] .colab-df-convert {\n",
              "      background-color: #3B4455;\n",
              "      fill: #D2E3FC;\n",
              "    }\n",
              "\n",
              "    [theme=dark] .colab-df-convert:hover {\n",
              "      background-color: #434B5C;\n",
              "      box-shadow: 0px 1px 3px 1px rgba(0, 0, 0, 0.15);\n",
              "      filter: drop-shadow(0px 1px 2px rgba(0, 0, 0, 0.3));\n",
              "      fill: #FFFFFF;\n",
              "    }\n",
              "  </style>\n",
              "\n",
              "      <script>\n",
              "        const buttonEl =\n",
              "          document.querySelector('#df-9329a61d-3613-4d46-bb62-59008455395c button.colab-df-convert');\n",
              "        buttonEl.style.display =\n",
              "          google.colab.kernel.accessAllowed ? 'block' : 'none';\n",
              "\n",
              "        async function convertToInteractive(key) {\n",
              "          const element = document.querySelector('#df-9329a61d-3613-4d46-bb62-59008455395c');\n",
              "          const dataTable =\n",
              "            await google.colab.kernel.invokeFunction('convertToInteractive',\n",
              "                                                     [key], {});\n",
              "          if (!dataTable) return;\n",
              "\n",
              "          const docLinkHtml = 'Like what you see? Visit the ' +\n",
              "            '<a target=\"_blank\" href=https://colab.research.google.com/notebooks/data_table.ipynb>data table notebook</a>'\n",
              "            + ' to learn more about interactive tables.';\n",
              "          element.innerHTML = '';\n",
              "          dataTable['output_type'] = 'display_data';\n",
              "          await google.colab.output.renderOutput(dataTable, element);\n",
              "          const docLink = document.createElement('div');\n",
              "          docLink.innerHTML = docLinkHtml;\n",
              "          element.appendChild(docLink);\n",
              "        }\n",
              "      </script>\n",
              "    </div>\n",
              "  </div>\n",
              "  "
            ]
          },
          "metadata": {},
          "execution_count": 4
        }
      ]
    },
    {
      "cell_type": "code",
      "source": [
        "tips.shape"
      ],
      "metadata": {
        "colab": {
          "base_uri": "https://localhost:8080/"
        },
        "id": "DNF7RY9aTHjx",
        "outputId": "ac662bbb-1ef8-4942-e4d0-cf0a85d7b50f"
      },
      "execution_count": 5,
      "outputs": [
        {
          "output_type": "execute_result",
          "data": {
            "text/plain": [
              "(244, 7)"
            ]
          },
          "metadata": {},
          "execution_count": 5
        }
      ]
    },
    {
      "cell_type": "markdown",
      "source": [
        "### matplotlib을 활용한 시각화"
      ],
      "metadata": {
        "id": "DCNilVJdW9WS"
      }
    },
    {
      "cell_type": "code",
      "source": [
        "sum_tip_by_day = tips.groupby('day')['tip'].sum()\n",
        "sum_tip_by_day"
      ],
      "metadata": {
        "colab": {
          "base_uri": "https://localhost:8080/"
        },
        "id": "fesFXRwMTo_y",
        "outputId": "2e1cc0ff-dc36-4a26-de3d-e5713cb0cd59"
      },
      "execution_count": 6,
      "outputs": [
        {
          "output_type": "execute_result",
          "data": {
            "text/plain": [
              "day\n",
              "Thur    171.83\n",
              "Fri      51.96\n",
              "Sat     260.40\n",
              "Sun     247.39\n",
              "Name: tip, dtype: float64"
            ]
          },
          "metadata": {},
          "execution_count": 6
        }
      ]
    },
    {
      "cell_type": "code",
      "source": [
        "x_label = ['Thur','Fri','Sat','Sun']\n",
        "x_label_index = np.arange(len(x_label))"
      ],
      "metadata": {
        "id": "JqBkrzh2TyRb"
      },
      "execution_count": 7,
      "outputs": []
    },
    {
      "cell_type": "code",
      "source": [
        "# Bar 차트 이해 및 제작\n",
        "# 비교에 용이\n",
        "plt.bar(x_label, sum_tip_by_day) # (x축, y축)\n",
        "plt.show()"
      ],
      "metadata": {
        "colab": {
          "base_uri": "https://localhost:8080/",
          "height": 503
        },
        "id": "UPngIH50XJfJ",
        "outputId": "fc040f5e-154f-4be7-ebc7-f1b27ab22055"
      },
      "execution_count": 8,
      "outputs": [
        {
          "output_type": "stream",
          "name": "stderr",
          "text": [
            "WARNING:matplotlib.font_manager:findfont: Font family ['AppleGothic'] not found. Falling back to DejaVu Sans.\n"
          ]
        },
        {
          "output_type": "display_data",
          "data": {
            "text/plain": [
              "<Figure size 720x576 with 1 Axes>"
            ],
            "image/png": "[encoded data removed]"
          },
          "metadata": {}
        }
      ]
    },
    {
      "cell_type": "code",
      "source": [
        "# 옵션들 적용\n",
        "\n",
        "plt.bar(x_label, sum_tip_by_day,\n",
        "        color='pink',\n",
        "        alpha=0.6, # 투명도\n",
        "        width=0.3, # bar 넓이\n",
        "        align='edge' # 격자의 한쪽 벽에 붙음 (배치)\n",
        "        )\n",
        "\n",
        "plt.title('Sum of Tips by Days')\n",
        "plt.xlabel('Days', fontsize=14)\n",
        "plt.ylabel('Sum of Tips', fontsize=14)\n",
        "\n",
        "plt.xticks(x_label_index,\n",
        "           x_label,\n",
        "           rotation=45, # 45도 돌리기\n",
        "           fontsize=15)\n",
        "plt.show()"
      ],
      "metadata": {
        "colab": {
          "base_uri": "https://localhost:8080/",
          "height": 599
        },
        "id": "voPYIy6pXYXx",
        "outputId": "92bdad34-24d5-4a28-d80c-5cdd0ec0636c"
      },
      "execution_count": 9,
      "outputs": [
        {
          "output_type": "stream",
          "name": "stderr",
          "text": [
            "WARNING:matplotlib.font_manager:findfont: Font family ['AppleGothic'] not found. Falling back to DejaVu Sans.\n",
            "WARNING:matplotlib.font_manager:findfont: Font family ['AppleGothic'] not found. Falling back to DejaVu Sans.\n",
            "WARNING:matplotlib.font_manager:findfont: Font family ['AppleGothic'] not found. Falling back to DejaVu Sans.\n"
          ]
        },
        {
          "output_type": "display_data",
          "data": {
            "text/plain": [
              "<Figure size 720x576 with 1 Axes>"
            ],
            "image/png": "[encoded data removed]"
          },
          "metadata": {}
        }
      ]
    },
    {
      "cell_type": "markdown",
      "source": [
        "### seaborn 이용"
      ],
      "metadata": {
        "id": "s_1uI7MZ3euA"
      }
    },
    {
      "cell_type": "code",
      "source": [
        "sns.barplot(data=tips,# 데이터 프레임\n",
        "            x='day',\n",
        "            y='tip',\n",
        "            estimator=np.sum)"
      ],
      "metadata": {
        "colab": {
          "base_uri": "https://localhost:8080/",
          "height": 520
        },
        "id": "CAMeNceGj4bb",
        "outputId": "5e9cd12c-9bde-4b48-9f07-51502de3d1fe"
      },
      "execution_count": 10,
      "outputs": [
        {
          "output_type": "execute_result",
          "data": {
            "text/plain": [
              "<matplotlib.axes._subplots.AxesSubplot at 0x7f743799c310>"
            ]
          },
          "metadata": {},
          "execution_count": 10
        },
        {
          "output_type": "display_data",
          "data": {
            "text/plain": [
              "<Figure size 720x576 with 1 Axes>"
            ],
            "image/png": "[encoded data removed]"
          },
          "metadata": {}
        }
      ]
    },
    {
      "cell_type": "code",
      "source": [
        "sns.barplot(data=tips,\n",
        "            x='day',\n",
        "            y='tip',\n",
        "            estimator=np.sum,\n",
        "            hue='sex' # 색깔 구분으로 특정 컬럼값을 비교하고 싶을 때\n",
        "            #, palette='pastel'\n",
        "            )"
      ],
      "metadata": {
        "colab": {
          "base_uri": "https://localhost:8080/",
          "height": 520
        },
        "id": "MksTifc04eev",
        "outputId": "ff5ce5a3-bf62-4008-c047-1e3d51397992"
      },
      "execution_count": 11,
      "outputs": [
        {
          "output_type": "execute_result",
          "data": {
            "text/plain": [
              "<matplotlib.axes._subplots.AxesSubplot at 0x7f74379c9190>"
            ]
          },
          "metadata": {},
          "execution_count": 11
        },
        {
          "output_type": "display_data",
          "data": {
            "text/plain": [
              "<Figure size 720x576 with 1 Axes>"
            ],
            "image/png": "[encoded data removed]"
          },
          "metadata": {}
        }
      ]
    },
    {
      "cell_type": "code",
      "source": [
        "sns.barplot(data=tips,\n",
        "            x='day',\n",
        "            y='tip',\n",
        "            estimator=np.average,\n",
        "            hue='sex'\n",
        "            ,order=['Sun','Sat','Fri','Thur'] # xticks 순서\n",
        "            ,edgecolor='.6'# 바 모서리 색 선명도\n",
        "            ,linewidth=2.5 # 바 모서리 두께\n",
        "            )\n",
        "plt.title('Average of Tips', fontsize=16) # 이게 됨 (seaborn는 plt와 함께 구동되도록 되어있다고 함)\n",
        "plt.xlabel('Days')\n",
        "plt.ylabel('Average')\n",
        "plt.xticks(rotation=45)\n",
        "plt.show()"
      ],
      "metadata": {
        "colab": {
          "base_uri": "https://localhost:8080/",
          "height": 553
        },
        "id": "doffkQo45AFK",
        "outputId": "7b495c41-9c10-4809-b246-1d626fb56765"
      },
      "execution_count": 12,
      "outputs": [
        {
          "output_type": "stream",
          "name": "stderr",
          "text": [
            "WARNING:matplotlib.font_manager:findfont: Font family ['AppleGothic'] not found. Falling back to DejaVu Sans.\n"
          ]
        },
        {
          "output_type": "display_data",
          "data": {
            "text/plain": [
              "<Figure size 720x576 with 1 Axes>"
            ],
            "image/png": "[encoded data removed]"
          },
          "metadata": {}
        }
      ]
    },
    {
      "cell_type": "code",
      "source": [
        "sns.barplot(data=tips,\n",
        "            x='day',\n",
        "            y='tip',\n",
        "            estimator=np.sum,\n",
        "            hue='sex'\n",
        "            ,order=['Sun','Sat','Fri','Thur'] # xticks 순서\n",
        "            ,edgecolor='.6'# 바 모서리 색 선명도\n",
        "            ,linewidth=2.5 # 바 모서리 두께\n",
        "            )\n",
        "plt.title('Average of Tips', fontsize=16) # 이게 됨 (seaborn는 plt와 함께 구동되도록 되어있다고 함)\n",
        "plt.xlabel('Days')\n",
        "plt.ylabel('Average')\n",
        "plt.xticks(rotation=45)\n",
        "plt.show()"
      ],
      "metadata": {
        "colab": {
          "base_uri": "https://localhost:8080/",
          "height": 535
        },
        "id": "cFEvHfHu51m8",
        "outputId": "dec81697-6dfe-4f91-b09c-f88722fe637c"
      },
      "execution_count": 13,
      "outputs": [
        {
          "output_type": "display_data",
          "data": {
            "text/plain": [
              "<Figure size 720x576 with 1 Axes>"
            ],
            "image/png": "[encoded data removed]"
          },
          "metadata": {}
        }
      ]
    }
  ]
}